{
 "cells": [
  {
   "cell_type": "markdown",
   "metadata": {},
   "source": [
    "# Solving a Cell Tracking Challenge Dataset\n",
    "\n",
    "This notebook walks you through solving a Cell Tracking Challenge dataset with `tracktour`, and then visualizing the results as a `Tracks` layer in napari.\n",
    "\n",
    "Pre-requisites:\n",
    "\n",
    "- A working installation of Gurobi\n",
    "\n",
    "We assume you are familiar with:\n",
    "\n",
    "- Python and Juypter notebooks\n",
    "- The Cell Tracking Challenge data format\n",
    "- Creating a virtual environment and installing packages (e.g. using `pip`)\n",
    "- Cloning/downloading files from GitHub"
   ]
  },
  {
   "cell_type": "markdown",
   "metadata": {},
   "source": [
    "## Step 1: Environment & Download\n",
    "\n",
    "1. Download this notebook\n",
    "2. Download the `sample_data` folder and place it in the same folder as this notebook. Alternatively, you can download any Cell Tracking Challenge dataset from [their website](https://celltrackingchallenge.net/2d-datasets/).\n",
    "3. Create a new environment with `python >= 3.8` and activate it\n",
    "4. Install tracktour and napari e.g. `pip install tracktour==0.0.5 napari[pyqt5]==0.4.19`^\n",
    "\n",
    "^For more detailed `napari` install instructions, check out the [install guide](https://napari.org/stable/tutorials/fundamentals/installation)."
   ]
  },
  {
   "cell_type": "markdown",
   "metadata": {},
   "source": [
    "## Step 2: Define Filepaths\n",
    "\n",
    "To run tracktour on the CTC data and visualize the results, we'll need to first define the paths to the images and segmentation, and the output path to save results.\n",
    "\n",
    "If you've placed your `sample_data` folder int he same folder as this notebook, the code below will define the correct paths for you. Alternatively, edit these paths if you've\n",
    "placed your `sample_data` folder elsewhere, or downloaded a different dataset from the CTC website."
   ]
  },
  {
   "cell_type": "code",
   "execution_count": null,
   "metadata": {},
   "outputs": [],
   "source": [
    "import os\n",
    "\n",
    "root = os.path.join(os.getcwd(), 'sample_data', 'PhC-C2DL-PSC')\n",
    "seg_path = os.path.join(root, '02_ST', 'SEG')\n",
    "im_path = os.path.join(root, '02')\n",
    "out_path = os.path.join(root, '02_RES')"
   ]
  },
  {
   "cell_type": "markdown",
   "metadata": {},
   "source": [
    "## Step 3: Run `tracktour`\n",
    "\n",
    "The easiest way to run `tracktour` on Cell Tracking Challenge data is via its `ctc` utility (which can also be accessed from the command line, see the tracktour package README).\n",
    "\n",
    "The `ctc` function takes as input the path to the segmentation, the path to save results, and an optional parameter for the number of neighbours to use. Once executed, it will save the tracking results into the folder at `out_path` in typical [Cell Tracking Challenge format](https://celltrackingchallenge.net/datasets/).\n",
    "\n",
    "**Note**: Tracktour keeps a list of the correct scales of all Cell Tracking Challenge datasets with ST segmentations available. Tracktour will warn you if it can't find the scale for your dataset. The results of 2D datasets will not be affected by scale, but it's quite important for 3D datasets. You can read the scale of each CTC dataset by looking at `More Details` under the dataset listing on the website. To set the `tracktour` scale yourself, you must interact with the `Tracker` object. See the [toy example](./toy.py) for how to do this."
   ]
  },
  {
   "cell_type": "code",
   "execution_count": null,
   "metadata": {},
   "outputs": [],
   "source": [
    "from tracktour.cli import ctc\n",
    "ctc(\n",
    "    seg_path,\n",
    "    out_path,\n",
    "    k_neighbours=10, # optional\n",
    ")"
   ]
  },
  {
   "cell_type": "markdown",
   "metadata": {},
   "source": [
    "## Step 4: Visualize\n",
    "\n",
    "We will load the images, segmentation and computed tracks for visualization with `napari`. If you are not familiar with `napari`, check out their [getting started guide](https://napari.org/stable/tutorials/fundamentals/getting_started.html).\n",
    "\n",
    "The tracks will be visualized using the `Labels` [layer](https://napari.org/stable/howtos/layers/labels.html) and the `Tracks` [layer](https://napari.org/stable/howtos/layers/tracks.html) in `napari`. \n",
    "\n",
    "The function for converting the segmentation and tracks into a `Tracks` layer is defined below."
   ]
  },
  {
   "cell_type": "code",
   "execution_count": null,
   "metadata": {},
   "outputs": [],
   "source": [
    "import pandas as pd\n",
    "\n",
    "from collections import defaultdict\n",
    "from napari.layers import Tracks\n",
    "from tracktour import extract_im_centers\n",
    "\n",
    "def get_tracks(seg: 'np.ndarray', res_path: str):\n",
    "    \"\"\"Get tracks from a segmentation and a tracking result file.\"\"\"\n",
    "    track_ids = pd.read_csv(res_path, sep=' ', header=None)\n",
    "    track_ids.columns = ['track_id', 'start', 'end', 'parent']\n",
    "    coords, _, _, _ = extract_im_centers(seg)\n",
    "    track_graph = defaultdict(list)\n",
    "    for _, row in track_ids[track_ids.parent != 0].iterrows():\n",
    "        track_graph[row['track_id']].append(row['parent'])\n",
    "    # 3D seg means we have 2D frames, otherwise 3D\n",
    "    coord_keys = ['y', 'x'] if len(seg.shape) == 3 else ['z', 'y', 'x']\n",
    "    tracks_layer = Tracks(\n",
    "        data=coords[['label', 't'] + coord_keys],\n",
    "        graph=track_graph,\n",
    "    )\n",
    "    tracks_layer.name = 'tracks'\n",
    "    return tracks_layer"
   ]
  },
  {
   "cell_type": "markdown",
   "metadata": {},
   "source": [
    "Now that our function is defined, we can load our images, segmentation and tracks into `napari` layers."
   ]
  },
  {
   "cell_type": "code",
   "execution_count": null,
   "metadata": {},
   "outputs": [],
   "source": [
    "from tracktour import load_tiff_frames\n",
    "images = load_tiff_frames(im_path)\n",
    "result_seg = load_tiff_frames(out_path)\n",
    "# convert seg to tracks layer\n",
    "tracks_layer = get_tracks(result_seg, os.path.join(out_path, 'res_track.txt'))"
   ]
  },
  {
   "cell_type": "markdown",
   "metadata": {},
   "source": [
    "Finally, we make a `napari` viewer and add the layers."
   ]
  },
  {
   "cell_type": "code",
   "execution_count": null,
   "metadata": {},
   "outputs": [],
   "source": [
    "import napari\n",
    "\n",
    "viewer = napari.Viewer()\n",
    "viewer.add_image(images, name='PhC-C2DL-PSC')\n",
    "viewer.add_labels(result_seg, name='Segmentation')\n",
    "viewer.add_layer(tracks_layer)"
   ]
  },
  {
   "cell_type": "markdown",
   "metadata": {},
   "source": [
    "Here is a GIF of the tracks computed on the sample data.\n",
    "\n",
    "![](./ims/sample_tracks.gif)"
   ]
  }
 ],
 "metadata": {
  "kernelspec": {
   "display_name": "tracktool",
   "language": "python",
   "name": "python3"
  },
  "language_info": {
   "codemirror_mode": {
    "name": "ipython",
    "version": 3
   },
   "file_extension": ".py",
   "mimetype": "text/x-python",
   "name": "python",
   "nbconvert_exporter": "python",
   "pygments_lexer": "ipython3",
   "version": "3.10.13"
  },
  "orig_nbformat": 4
 },
 "nbformat": 4,
 "nbformat_minor": 2
}
